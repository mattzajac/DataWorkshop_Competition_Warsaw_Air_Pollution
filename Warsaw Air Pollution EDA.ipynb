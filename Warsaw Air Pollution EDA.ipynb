{
 "cells": [
  {
   "cell_type": "markdown",
   "metadata": {},
   "source": [
    "# Warsaw Air Pollution\n",
    "\n",
    "<span style=\"color: gray; font-size:1em;\">Mateusz Zajac</span>\n",
    "<br><span style=\"color: gray; font-size:1em;\">Jul-2020</span>\n",
    "\n",
    "\n",
    "## Table of Contents\n",
    "- [Introduction](#intro)\n",
    "- [Part I - Gathering Data](#gather)\n",
    "- [Part II - Assessing Data](#assess)\n",
    "- [Part III - Cleaning Data](#clean)"
   ]
  },
  {
   "cell_type": "code",
   "execution_count": 1,
   "metadata": {},
   "outputs": [],
   "source": [
    "import pandas as pd\n",
    "import numpy as np\n",
    "\n",
    "from scipy.special import boxcox1p\n",
    "from scipy.special import inv_boxcox1p\n",
    "\n",
    "from datetime import datetime, timedelta\n",
    "import calendar\n",
    "\n",
    "\n",
    "#visualization\n",
    "import matplotlib.pyplot as plt\n",
    "%matplotlib inline\n",
    "\n",
    "import seaborn as sns\n",
    "base_color = sns.color_palette()[0]\n",
    "\n",
    "\n",
    "import warnings\n",
    "warnings.filterwarnings('ignore')\n",
    "\n",
    "#show all columns and rows\n",
    "pd.options.display.max_rows = None\n",
    "pd.options.display.max_columns = None\n",
    "\n",
    "\n",
    "import requests\n",
    "import json"
   ]
  },
  {
   "cell_type": "markdown",
   "metadata": {},
   "source": [
    "<a id='gather'></a>\n",
    "## Part I - Gathering Data"
   ]
  },
  {
   "cell_type": "markdown",
   "metadata": {},
   "source": [
    "### Meteorological data"
   ]
  },
  {
   "cell_type": "markdown",
   "metadata": {},
   "source": [
    "**darksky API Key**\n",
    "```\n",
    "key = generation of the key is no longer available, please read https://blog.darksky.net/\n",
    "```"
   ]
  },
  {
   "cell_type": "markdown",
   "metadata": {},
   "source": [
    "**API Setup**\n",
    "```\n",
    "date = datetime.strptime('2015-01-01', '%Y-%m-%d')\n",
    "timest = int(datetime.timestamp(date))\n",
    "```"
   ]
  },
  {
   "cell_type": "markdown",
   "metadata": {},
   "source": [
    "**Download data**\n",
    "```\n",
    "data_darksky = []\n",
    "for i in range(365):\n",
    "    darksky = json.loads(requests.get('https://api.darksky.net/forecast/{}/52.2193,21.0047,{}'\n",
    "    .format(key, timest)).text)\n",
    "    \n",
    "    data_darksky.extend(darksky['hourly']['data'])\n",
    "    \n",
    "    timest += 24*60*60\n",
    "    \n",
    "df_darksky = pd.DataFrame(data_darksky)\n",
    "```"
   ]
  },
  {
   "cell_type": "markdown",
   "metadata": {},
   "source": [
    "### Pollution data from the monitoring stations\n",
    "Data has been downloaded manually from the [GIOŚ archives](http://powietrze.gios.gov.pl/pjp/archives)"
   ]
  },
  {
   "cell_type": "code",
   "execution_count": 13,
   "metadata": {},
   "outputs": [],
   "source": [
    "# load both dataset\n",
    "\n",
    "darksky = pd.read_hdf('data/darksky_data.h5')\n",
    "gios = pd.read_hdf('data/gios_data.h5')"
   ]
  },
  {
   "cell_type": "code",
   "execution_count": null,
   "metadata": {},
   "outputs": [],
   "source": []
  }
 ],
 "metadata": {
  "kernelspec": {
   "display_name": "Python 3",
   "language": "python",
   "name": "python3"
  },
  "language_info": {
   "codemirror_mode": {
    "name": "ipython",
    "version": 3
   },
   "file_extension": ".py",
   "mimetype": "text/x-python",
   "name": "python",
   "nbconvert_exporter": "python",
   "pygments_lexer": "ipython3",
   "version": "3.7.3"
  }
 },
 "nbformat": 4,
 "nbformat_minor": 2
}
